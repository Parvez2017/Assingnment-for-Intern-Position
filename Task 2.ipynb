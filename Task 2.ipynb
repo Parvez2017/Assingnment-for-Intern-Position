{
 "cells": [
  {
   "cell_type": "code",
   "execution_count": 36,
   "metadata": {},
   "outputs": [],
   "source": [
    "def keep_alphanumeric_char(string):\n",
    "    length = len(string)\n",
    "    new_string = \"\"\n",
    "    for i in range(length):\n",
    "       if ((int(ord(string[i])) >= 65 and\n",
    "        int(ord(string[i])) <= 90) or\n",
    "        (int(ord(string[i])) >= 97 and\n",
    "        int(ord(string[i])) <= 122)) or (int(ord(string[i])) >= 48 and\n",
    "            int(ord(string[i])) <= 57):\n",
    "            new_string+=string[i]\n",
    "    print(\"The original string: {}\".format(string))        \n",
    "    print(\"The string With only alphanumeric chararcter: {}\".format(new_string))\n",
    "        \n",
    "    \n",
    "\n"
   ]
  },
  {
   "cell_type": "code",
   "execution_count": 37,
   "metadata": {},
   "outputs": [
    {
     "name": "stdout",
     "output_type": "stream",
     "text": [
      "The original string: abc!0ASDF003o@#$\n",
      "The string With only alphanumeric chararcter: abc0ASDF003o\n"
     ]
    }
   ],
   "source": [
    "string = 'abc!0ASDF003o@#$'\n",
    "keep_alphanumeric_char(string)"
   ]
  },
  {
   "cell_type": "code",
   "execution_count": null,
   "metadata": {},
   "outputs": [],
   "source": []
  }
 ],
 "metadata": {
  "kernelspec": {
   "display_name": "Python 3",
   "language": "python",
   "name": "python3"
  },
  "language_info": {
   "codemirror_mode": {
    "name": "ipython",
    "version": 3
   },
   "file_extension": ".py",
   "mimetype": "text/x-python",
   "name": "python",
   "nbconvert_exporter": "python",
   "pygments_lexer": "ipython3",
   "version": "3.7.3"
  }
 },
 "nbformat": 4,
 "nbformat_minor": 2
}
