{
 "cells": [
  {
   "cell_type": "code",
   "execution_count": 13,
   "metadata": {},
   "outputs": [
    {
     "name": "stdout",
     "output_type": "stream",
     "text": [
      "3\n"
     ]
    }
   ],
   "source": [
    "def count_pattern(pat, txt): \n",
    "    pat_len = len(pat) \n",
    "    txt_len = len(txt)\n",
    "    count = 0\n",
    "   \n",
    "    lps = [0]*pat_len\n",
    "    j = 0 \n",
    "    \n",
    "    computeLPSArray(pat, pat_len, lps) \n",
    "  \n",
    "    i = 0\n",
    "    \n",
    "    while i < txt_len: \n",
    "        if pat[j] == txt[i]: \n",
    "            i += 1\n",
    "            j += 1\n",
    "  \n",
    "        if j == pat_len: \n",
    "            count+=1\n",
    "            j = lps[j-1] \n",
    "   \n",
    "        elif i < txt_len and pat[j] != txt[i]:  \n",
    "            if j != 0: \n",
    "                j = lps[j-1] \n",
    "            else: \n",
    "                i += 1\n",
    "    return count\n",
    "  \n",
    "def compute_LPS_array(pat, pat_len, lps): \n",
    "    length = 0 \n",
    "  \n",
    "    lps[0]\n",
    "    i = 1\n",
    "  \n",
    "    while i < pat_len: \n",
    "        if pat[i]== pat[length]: \n",
    "            length += 1\n",
    "            lps[i] = length\n",
    "            i += 1\n",
    "        else:  \n",
    "            if length != 0: \n",
    "                length = lps[length-1] \n",
    "  \n",
    "            else: \n",
    "                lps[i] = 0\n",
    "                i += 1\n",
    "  \n",
    "string1 =\"i love muri .ilovemuri. muriislife .without mur i'm nothing . murei is valobasha\"\n",
    "string2 = \"muri\"\n",
    "\n",
    "count = count_pattern(pat, txt) \n",
    "print(count)"
   ]
  },
  {
   "cell_type": "code",
   "execution_count": null,
   "metadata": {},
   "outputs": [],
   "source": []
  }
 ],
 "metadata": {
  "kernelspec": {
   "display_name": "Python 3",
   "language": "python",
   "name": "python3"
  },
  "language_info": {
   "codemirror_mode": {
    "name": "ipython",
    "version": 3
   },
   "file_extension": ".py",
   "mimetype": "text/x-python",
   "name": "python",
   "nbconvert_exporter": "python",
   "pygments_lexer": "ipython3",
   "version": "3.7.3"
  }
 },
 "nbformat": 4,
 "nbformat_minor": 2
}
